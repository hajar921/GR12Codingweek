{
 "cells": [
  {
   "cell_type": "code",
   "execution_count": 3,
   "metadata": {},
   "outputs": [
    {
     "name": "stderr",
     "output_type": "stream",
     "text": [
      "<>:11: SyntaxWarning: invalid escape sequence '\\O'\n",
      "<>:11: SyntaxWarning: invalid escape sequence '\\O'\n",
      "C:\\Users\\E N V Y\\AppData\\Local\\Temp\\ipykernel_2852\\222153463.py:11: SyntaxWarning: invalid escape sequence '\\O'\n",
      "  df=pd.read_csv(\"Dataset\\ObesityDataSet_raw_and_data_sinthetic.csv\")\n"
     ]
    },
    {
     "ename": "FileNotFoundError",
     "evalue": "[Errno 2] No such file or directory: 'Dataset\\\\ObesityDataSet_raw_and_data_sinthetic.csv'",
     "output_type": "error",
     "traceback": [
      "\u001b[31m---------------------------------------------------------------------------\u001b[39m",
      "\u001b[31mFileNotFoundError\u001b[39m                         Traceback (most recent call last)",
      "\u001b[36mCell\u001b[39m\u001b[36m \u001b[39m\u001b[32mIn[3]\u001b[39m\u001b[32m, line 11\u001b[39m\n\u001b[32m      6\u001b[39m \u001b[38;5;28;01mfrom\u001b[39;00m\u001b[38;5;250m \u001b[39m\u001b[34;01msklearn\u001b[39;00m\u001b[34;01m.\u001b[39;00m\u001b[34;01mpreprocessing\u001b[39;00m\u001b[38;5;250m \u001b[39m\u001b[38;5;28;01mimport\u001b[39;00m LabelEncoder\n\u001b[32m      7\u001b[39m \u001b[38;5;28;01mimport\u001b[39;00m\u001b[38;5;250m \u001b[39m\u001b[34;01mshap\u001b[39;00m\n\u001b[32m---> \u001b[39m\u001b[32m11\u001b[39m df=\u001b[43mpd\u001b[49m\u001b[43m.\u001b[49m\u001b[43mread_csv\u001b[49m\u001b[43m(\u001b[49m\u001b[33;43m\"\u001b[39;49m\u001b[33;43mDataset\u001b[39;49m\u001b[33;43m\\\u001b[39;49m\u001b[33;43mObesityDataSet_raw_and_data_sinthetic.csv\u001b[39;49m\u001b[33;43m\"\u001b[39;49m\u001b[43m)\u001b[49m\n\u001b[32m     12\u001b[39m df.head()\n",
      "\u001b[36mFile \u001b[39m\u001b[32mc:\\Users\\E N V Y\\AppData\\Local\\Programs\\Python\\Python312\\Lib\\site-packages\\pandas\\io\\parsers\\readers.py:1026\u001b[39m, in \u001b[36mread_csv\u001b[39m\u001b[34m(filepath_or_buffer, sep, delimiter, header, names, index_col, usecols, dtype, engine, converters, true_values, false_values, skipinitialspace, skiprows, skipfooter, nrows, na_values, keep_default_na, na_filter, verbose, skip_blank_lines, parse_dates, infer_datetime_format, keep_date_col, date_parser, date_format, dayfirst, cache_dates, iterator, chunksize, compression, thousands, decimal, lineterminator, quotechar, quoting, doublequote, escapechar, comment, encoding, encoding_errors, dialect, on_bad_lines, delim_whitespace, low_memory, memory_map, float_precision, storage_options, dtype_backend)\u001b[39m\n\u001b[32m   1013\u001b[39m kwds_defaults = _refine_defaults_read(\n\u001b[32m   1014\u001b[39m     dialect,\n\u001b[32m   1015\u001b[39m     delimiter,\n\u001b[32m   (...)\u001b[39m\u001b[32m   1022\u001b[39m     dtype_backend=dtype_backend,\n\u001b[32m   1023\u001b[39m )\n\u001b[32m   1024\u001b[39m kwds.update(kwds_defaults)\n\u001b[32m-> \u001b[39m\u001b[32m1026\u001b[39m \u001b[38;5;28;01mreturn\u001b[39;00m \u001b[43m_read\u001b[49m\u001b[43m(\u001b[49m\u001b[43mfilepath_or_buffer\u001b[49m\u001b[43m,\u001b[49m\u001b[43m \u001b[49m\u001b[43mkwds\u001b[49m\u001b[43m)\u001b[49m\n",
      "\u001b[36mFile \u001b[39m\u001b[32mc:\\Users\\E N V Y\\AppData\\Local\\Programs\\Python\\Python312\\Lib\\site-packages\\pandas\\io\\parsers\\readers.py:620\u001b[39m, in \u001b[36m_read\u001b[39m\u001b[34m(filepath_or_buffer, kwds)\u001b[39m\n\u001b[32m    617\u001b[39m _validate_names(kwds.get(\u001b[33m\"\u001b[39m\u001b[33mnames\u001b[39m\u001b[33m\"\u001b[39m, \u001b[38;5;28;01mNone\u001b[39;00m))\n\u001b[32m    619\u001b[39m \u001b[38;5;66;03m# Create the parser.\u001b[39;00m\n\u001b[32m--> \u001b[39m\u001b[32m620\u001b[39m parser = \u001b[43mTextFileReader\u001b[49m\u001b[43m(\u001b[49m\u001b[43mfilepath_or_buffer\u001b[49m\u001b[43m,\u001b[49m\u001b[43m \u001b[49m\u001b[43m*\u001b[49m\u001b[43m*\u001b[49m\u001b[43mkwds\u001b[49m\u001b[43m)\u001b[49m\n\u001b[32m    622\u001b[39m \u001b[38;5;28;01mif\u001b[39;00m chunksize \u001b[38;5;129;01mor\u001b[39;00m iterator:\n\u001b[32m    623\u001b[39m     \u001b[38;5;28;01mreturn\u001b[39;00m parser\n",
      "\u001b[36mFile \u001b[39m\u001b[32mc:\\Users\\E N V Y\\AppData\\Local\\Programs\\Python\\Python312\\Lib\\site-packages\\pandas\\io\\parsers\\readers.py:1620\u001b[39m, in \u001b[36mTextFileReader.__init__\u001b[39m\u001b[34m(self, f, engine, **kwds)\u001b[39m\n\u001b[32m   1617\u001b[39m     \u001b[38;5;28mself\u001b[39m.options[\u001b[33m\"\u001b[39m\u001b[33mhas_index_names\u001b[39m\u001b[33m\"\u001b[39m] = kwds[\u001b[33m\"\u001b[39m\u001b[33mhas_index_names\u001b[39m\u001b[33m\"\u001b[39m]\n\u001b[32m   1619\u001b[39m \u001b[38;5;28mself\u001b[39m.handles: IOHandles | \u001b[38;5;28;01mNone\u001b[39;00m = \u001b[38;5;28;01mNone\u001b[39;00m\n\u001b[32m-> \u001b[39m\u001b[32m1620\u001b[39m \u001b[38;5;28mself\u001b[39m._engine = \u001b[38;5;28;43mself\u001b[39;49m\u001b[43m.\u001b[49m\u001b[43m_make_engine\u001b[49m\u001b[43m(\u001b[49m\u001b[43mf\u001b[49m\u001b[43m,\u001b[49m\u001b[43m \u001b[49m\u001b[38;5;28;43mself\u001b[39;49m\u001b[43m.\u001b[49m\u001b[43mengine\u001b[49m\u001b[43m)\u001b[49m\n",
      "\u001b[36mFile \u001b[39m\u001b[32mc:\\Users\\E N V Y\\AppData\\Local\\Programs\\Python\\Python312\\Lib\\site-packages\\pandas\\io\\parsers\\readers.py:1880\u001b[39m, in \u001b[36mTextFileReader._make_engine\u001b[39m\u001b[34m(self, f, engine)\u001b[39m\n\u001b[32m   1878\u001b[39m     \u001b[38;5;28;01mif\u001b[39;00m \u001b[33m\"\u001b[39m\u001b[33mb\u001b[39m\u001b[33m\"\u001b[39m \u001b[38;5;129;01mnot\u001b[39;00m \u001b[38;5;129;01min\u001b[39;00m mode:\n\u001b[32m   1879\u001b[39m         mode += \u001b[33m\"\u001b[39m\u001b[33mb\u001b[39m\u001b[33m\"\u001b[39m\n\u001b[32m-> \u001b[39m\u001b[32m1880\u001b[39m \u001b[38;5;28mself\u001b[39m.handles = \u001b[43mget_handle\u001b[49m\u001b[43m(\u001b[49m\n\u001b[32m   1881\u001b[39m \u001b[43m    \u001b[49m\u001b[43mf\u001b[49m\u001b[43m,\u001b[49m\n\u001b[32m   1882\u001b[39m \u001b[43m    \u001b[49m\u001b[43mmode\u001b[49m\u001b[43m,\u001b[49m\n\u001b[32m   1883\u001b[39m \u001b[43m    \u001b[49m\u001b[43mencoding\u001b[49m\u001b[43m=\u001b[49m\u001b[38;5;28;43mself\u001b[39;49m\u001b[43m.\u001b[49m\u001b[43moptions\u001b[49m\u001b[43m.\u001b[49m\u001b[43mget\u001b[49m\u001b[43m(\u001b[49m\u001b[33;43m\"\u001b[39;49m\u001b[33;43mencoding\u001b[39;49m\u001b[33;43m\"\u001b[39;49m\u001b[43m,\u001b[49m\u001b[43m \u001b[49m\u001b[38;5;28;43;01mNone\u001b[39;49;00m\u001b[43m)\u001b[49m\u001b[43m,\u001b[49m\n\u001b[32m   1884\u001b[39m \u001b[43m    \u001b[49m\u001b[43mcompression\u001b[49m\u001b[43m=\u001b[49m\u001b[38;5;28;43mself\u001b[39;49m\u001b[43m.\u001b[49m\u001b[43moptions\u001b[49m\u001b[43m.\u001b[49m\u001b[43mget\u001b[49m\u001b[43m(\u001b[49m\u001b[33;43m\"\u001b[39;49m\u001b[33;43mcompression\u001b[39;49m\u001b[33;43m\"\u001b[39;49m\u001b[43m,\u001b[49m\u001b[43m \u001b[49m\u001b[38;5;28;43;01mNone\u001b[39;49;00m\u001b[43m)\u001b[49m\u001b[43m,\u001b[49m\n\u001b[32m   1885\u001b[39m \u001b[43m    \u001b[49m\u001b[43mmemory_map\u001b[49m\u001b[43m=\u001b[49m\u001b[38;5;28;43mself\u001b[39;49m\u001b[43m.\u001b[49m\u001b[43moptions\u001b[49m\u001b[43m.\u001b[49m\u001b[43mget\u001b[49m\u001b[43m(\u001b[49m\u001b[33;43m\"\u001b[39;49m\u001b[33;43mmemory_map\u001b[39;49m\u001b[33;43m\"\u001b[39;49m\u001b[43m,\u001b[49m\u001b[43m \u001b[49m\u001b[38;5;28;43;01mFalse\u001b[39;49;00m\u001b[43m)\u001b[49m\u001b[43m,\u001b[49m\n\u001b[32m   1886\u001b[39m \u001b[43m    \u001b[49m\u001b[43mis_text\u001b[49m\u001b[43m=\u001b[49m\u001b[43mis_text\u001b[49m\u001b[43m,\u001b[49m\n\u001b[32m   1887\u001b[39m \u001b[43m    \u001b[49m\u001b[43merrors\u001b[49m\u001b[43m=\u001b[49m\u001b[38;5;28;43mself\u001b[39;49m\u001b[43m.\u001b[49m\u001b[43moptions\u001b[49m\u001b[43m.\u001b[49m\u001b[43mget\u001b[49m\u001b[43m(\u001b[49m\u001b[33;43m\"\u001b[39;49m\u001b[33;43mencoding_errors\u001b[39;49m\u001b[33;43m\"\u001b[39;49m\u001b[43m,\u001b[49m\u001b[43m \u001b[49m\u001b[33;43m\"\u001b[39;49m\u001b[33;43mstrict\u001b[39;49m\u001b[33;43m\"\u001b[39;49m\u001b[43m)\u001b[49m\u001b[43m,\u001b[49m\n\u001b[32m   1888\u001b[39m \u001b[43m    \u001b[49m\u001b[43mstorage_options\u001b[49m\u001b[43m=\u001b[49m\u001b[38;5;28;43mself\u001b[39;49m\u001b[43m.\u001b[49m\u001b[43moptions\u001b[49m\u001b[43m.\u001b[49m\u001b[43mget\u001b[49m\u001b[43m(\u001b[49m\u001b[33;43m\"\u001b[39;49m\u001b[33;43mstorage_options\u001b[39;49m\u001b[33;43m\"\u001b[39;49m\u001b[43m,\u001b[49m\u001b[43m \u001b[49m\u001b[38;5;28;43;01mNone\u001b[39;49;00m\u001b[43m)\u001b[49m\u001b[43m,\u001b[49m\n\u001b[32m   1889\u001b[39m \u001b[43m\u001b[49m\u001b[43m)\u001b[49m\n\u001b[32m   1890\u001b[39m \u001b[38;5;28;01massert\u001b[39;00m \u001b[38;5;28mself\u001b[39m.handles \u001b[38;5;129;01mis\u001b[39;00m \u001b[38;5;129;01mnot\u001b[39;00m \u001b[38;5;28;01mNone\u001b[39;00m\n\u001b[32m   1891\u001b[39m f = \u001b[38;5;28mself\u001b[39m.handles.handle\n",
      "\u001b[36mFile \u001b[39m\u001b[32mc:\\Users\\E N V Y\\AppData\\Local\\Programs\\Python\\Python312\\Lib\\site-packages\\pandas\\io\\common.py:873\u001b[39m, in \u001b[36mget_handle\u001b[39m\u001b[34m(path_or_buf, mode, encoding, compression, memory_map, is_text, errors, storage_options)\u001b[39m\n\u001b[32m    868\u001b[39m \u001b[38;5;28;01melif\u001b[39;00m \u001b[38;5;28misinstance\u001b[39m(handle, \u001b[38;5;28mstr\u001b[39m):\n\u001b[32m    869\u001b[39m     \u001b[38;5;66;03m# Check whether the filename is to be opened in binary mode.\u001b[39;00m\n\u001b[32m    870\u001b[39m     \u001b[38;5;66;03m# Binary mode does not support 'encoding' and 'newline'.\u001b[39;00m\n\u001b[32m    871\u001b[39m     \u001b[38;5;28;01mif\u001b[39;00m ioargs.encoding \u001b[38;5;129;01mand\u001b[39;00m \u001b[33m\"\u001b[39m\u001b[33mb\u001b[39m\u001b[33m\"\u001b[39m \u001b[38;5;129;01mnot\u001b[39;00m \u001b[38;5;129;01min\u001b[39;00m ioargs.mode:\n\u001b[32m    872\u001b[39m         \u001b[38;5;66;03m# Encoding\u001b[39;00m\n\u001b[32m--> \u001b[39m\u001b[32m873\u001b[39m         handle = \u001b[38;5;28;43mopen\u001b[39;49m\u001b[43m(\u001b[49m\n\u001b[32m    874\u001b[39m \u001b[43m            \u001b[49m\u001b[43mhandle\u001b[49m\u001b[43m,\u001b[49m\n\u001b[32m    875\u001b[39m \u001b[43m            \u001b[49m\u001b[43mioargs\u001b[49m\u001b[43m.\u001b[49m\u001b[43mmode\u001b[49m\u001b[43m,\u001b[49m\n\u001b[32m    876\u001b[39m \u001b[43m            \u001b[49m\u001b[43mencoding\u001b[49m\u001b[43m=\u001b[49m\u001b[43mioargs\u001b[49m\u001b[43m.\u001b[49m\u001b[43mencoding\u001b[49m\u001b[43m,\u001b[49m\n\u001b[32m    877\u001b[39m \u001b[43m            \u001b[49m\u001b[43merrors\u001b[49m\u001b[43m=\u001b[49m\u001b[43merrors\u001b[49m\u001b[43m,\u001b[49m\n\u001b[32m    878\u001b[39m \u001b[43m            \u001b[49m\u001b[43mnewline\u001b[49m\u001b[43m=\u001b[49m\u001b[33;43m\"\u001b[39;49m\u001b[33;43m\"\u001b[39;49m\u001b[43m,\u001b[49m\n\u001b[32m    879\u001b[39m \u001b[43m        \u001b[49m\u001b[43m)\u001b[49m\n\u001b[32m    880\u001b[39m     \u001b[38;5;28;01melse\u001b[39;00m:\n\u001b[32m    881\u001b[39m         \u001b[38;5;66;03m# Binary mode\u001b[39;00m\n\u001b[32m    882\u001b[39m         handle = \u001b[38;5;28mopen\u001b[39m(handle, ioargs.mode)\n",
      "\u001b[31mFileNotFoundError\u001b[39m: [Errno 2] No such file or directory: 'Dataset\\\\ObesityDataSet_raw_and_data_sinthetic.csv'"
     ]
    }
   ],
   "source": [
    "\n",
    "import pandas as pd\n",
    "import seaborn as sns\n",
    "import matplotlib.pyplot as plt\n",
    "import numpy as np\n",
    "from scipy.stats import zscore\n",
    "from sklearn.preprocessing import LabelEncoder\n",
    "import shap\n",
    "\n",
    "\n",
    "\n",
    "df=pd.read_csv(\"Dataset\\ObesityDataSet_raw_and_data_sinthetic.csv\")\n",
    "df.head()"
   ]
  },
  {
   "cell_type": "code",
   "execution_count": null,
   "metadata": {},
   "outputs": [
    {
     "ename": "NameError",
     "evalue": "name 'df' is not defined",
     "output_type": "error",
     "traceback": [
      "\u001b[31m---------------------------------------------------------------------------\u001b[39m",
      "\u001b[31mNameError\u001b[39m                                 Traceback (most recent call last)",
      "\u001b[36mCell\u001b[39m\u001b[36m \u001b[39m\u001b[32mIn[1]\u001b[39m\u001b[32m, line 1\u001b[39m\n\u001b[32m----> \u001b[39m\u001b[32m1\u001b[39m \u001b[38;5;28mprint\u001b[39m(\u001b[43mdf\u001b[49m.head())\n",
      "\u001b[31mNameError\u001b[39m: name 'df' is not defined"
     ]
    }
   ],
   "source": [
    "print(df.head())"
   ]
  },
  {
   "cell_type": "code",
   "execution_count": null,
   "metadata": {},
   "outputs": [
    {
     "ename": "NameError",
     "evalue": "name 'df' is not defined",
     "output_type": "error",
     "traceback": [
      "\u001b[31m---------------------------------------------------------------------------\u001b[39m",
      "\u001b[31mNameError\u001b[39m                                 Traceback (most recent call last)",
      "\u001b[36mCell\u001b[39m\u001b[36m \u001b[39m\u001b[32mIn[7]\u001b[39m\u001b[32m, line 1\u001b[39m\n\u001b[32m----> \u001b[39m\u001b[32m1\u001b[39m \u001b[38;5;28mprint\u001b[39m(\u001b[43mdf\u001b[49m.info())\n",
      "\u001b[31mNameError\u001b[39m: name 'df' is not defined"
     ]
    }
   ],
   "source": [
    "print(df.info())"
   ]
  },
  {
   "cell_type": "code",
   "execution_count": null,
   "metadata": {},
   "outputs": [
    {
     "name": "stdout",
     "output_type": "stream",
     "text": [
      "               Age       Height       Weight         FCVC          NCP  \\\n",
      "count  2111.000000  2111.000000  2111.000000  2111.000000  2111.000000   \n",
      "mean     24.312600     1.701677    86.586058     2.419043     2.685628   \n",
      "std       6.345968     0.093305    26.191172     0.533927     0.778039   \n",
      "min      14.000000     1.450000    39.000000     1.000000     1.000000   \n",
      "25%      19.947192     1.630000    65.473343     2.000000     2.658738   \n",
      "50%      22.777890     1.700499    83.000000     2.385502     3.000000   \n",
      "75%      26.000000     1.768464   107.430682     3.000000     3.000000   \n",
      "max      61.000000     1.980000   173.000000     3.000000     4.000000   \n",
      "\n",
      "              CH2O          FAF          TUE  \n",
      "count  2111.000000  2111.000000  2111.000000  \n",
      "mean      2.008011     1.010298     0.657866  \n",
      "std       0.612953     0.850592     0.608927  \n",
      "min       1.000000     0.000000     0.000000  \n",
      "25%       1.584812     0.124505     0.000000  \n",
      "50%       2.000000     1.000000     0.625350  \n",
      "75%       2.477420     1.666678     1.000000  \n",
      "max       3.000000     3.000000     2.000000  \n"
     ]
    }
   ],
   "source": [
    "print(df.describe())"
   ]
  },
  {
   "cell_type": "code",
   "execution_count": null,
   "metadata": {},
   "outputs": [
    {
     "name": "stdout",
     "output_type": "stream",
     "text": [
      "Gender                            0\n",
      "Age                               0\n",
      "Height                            0\n",
      "Weight                            0\n",
      "family_history_with_overweight    0\n",
      "FAVC                              0\n",
      "FCVC                              0\n",
      "NCP                               0\n",
      "CAEC                              0\n",
      "SMOKE                             0\n",
      "CH2O                              0\n",
      "SCC                               0\n",
      "FAF                               0\n",
      "TUE                               0\n",
      "CALC                              0\n",
      "MTRANS                            0\n",
      "NObeyesdad                        0\n",
      "dtype: int64\n"
     ]
    }
   ],
   "source": [
    "print(df.isnull().sum())"
   ]
  },
  {
   "cell_type": "code",
   "execution_count": null,
   "metadata": {},
   "outputs": [
    {
     "name": "stdout",
     "output_type": "stream",
     "text": [
      "24\n"
     ]
    }
   ],
   "source": [
    "print(df.duplicated().sum())"
   ]
  },
  {
   "cell_type": "code",
   "execution_count": null,
   "metadata": {},
   "outputs": [],
   "source": [
    "df.drop_duplicates(inplace=True)"
   ]
  },
  {
   "cell_type": "code",
   "execution_count": null,
   "metadata": {},
   "outputs": [
    {
     "name": "stdout",
     "output_type": "stream",
     "text": [
      "0\n"
     ]
    }
   ],
   "source": [
    "print(df.duplicated().sum())"
   ]
  },
  {
   "cell_type": "code",
   "execution_count": null,
   "metadata": {},
   "outputs": [
    {
     "data": {
      "image/png": "[encoded data removed]",
      "text/plain": [
       "<Figure size 1200x600 with 1 Axes>"
      ]
     },
     "metadata": {},
     "output_type": "display_data"
    }
   ],
   "source": [
    "import matplotlib.pyplot as plt\n",
    "df.head()\n",
    "plt.figure(figsize=(12,6))\n",
    "df.boxplot(rot=90)\n",
    "plt.title(\"Detection des outliers\")\n",
    "plt.show()"
   ]
  },
  {
   "cell_type": "code",
   "execution_count": null,
   "metadata": {},
   "outputs": [
    {
     "name": "stdout",
     "output_type": "stream",
     "text": [
      "Nombre d'outliers detectes par case :\n",
      "[23  0  1  0  0  0  0  0]\n"
     ]
    }
   ],
   "source": [
    "from scipy.stats import zscore \n",
    "z_scores = np.abs(zscore(df.select_dtypes(include=[np.number])))\n",
    "outliers = (z_scores > 3).sum(axis=0)\n",
    "print(\"Nombre d'outliers detectes par case :\")\n",
    "print(outliers)"
   ]
  },
  {
   "cell_type": "code",
   "execution_count": null,
   "metadata": {},
   "outputs": [],
   "source": [
    "duplicates = df[df.duplicated(keep=False)]"
   ]
  },
  {
   "cell_type": "code",
   "execution_count": null,
   "metadata": {},
   "outputs": [
    {
     "name": "stdout",
     "output_type": "stream",
     "text": [
      "0\n"
     ]
    }
   ],
   "source": [
    "print(df.duplicated().sum()) "
   ]
  },
  {
   "cell_type": "code",
   "execution_count": null,
   "metadata": {},
   "outputs": [
    {
     "name": "stdout",
     "output_type": "stream",
     "text": [
      "Lignes dupliquées :\n",
      "Empty DataFrame\n",
      "Columns: [Gender, Age, Height, Weight, family_history_with_overweight, FAVC, FCVC, NCP, CAEC, SMOKE, CH2O, SCC, FAF, TUE, CALC, MTRANS, NObeyesdad]\n",
      "Index: []\n"
     ]
    }
   ],
   "source": [
    "duplicates = df[df.duplicated(keep=False)]\n",
    "\n",
    "print(\"Lignes dupliquées :\")\n",
    "print(duplicates)"
   ]
  },
  {
   "cell_type": "code",
   "execution_count": null,
   "metadata": {},
   "outputs": [
    {
     "name": "stdout",
     "output_type": "stream",
     "text": [
      "Doublons détectés dans la colonne: Gender\n",
      "      Gender\n",
      "0     Female\n",
      "1     Female\n",
      "2       Male\n",
      "3       Male\n",
      "4       Male\n",
      "...      ...\n",
      "2106  Female\n",
      "2107  Female\n",
      "2108  Female\n",
      "2109  Female\n",
      "2110  Female\n",
      "\n",
      "[2087 rows x 1 columns]\n",
      "Doublons détectés dans la colonne: Age\n",
      "       Age\n",
      "0     21.0\n",
      "1     21.0\n",
      "2     23.0\n",
      "3     27.0\n",
      "4     22.0\n",
      "...    ...\n",
      "2090  26.0\n",
      "2091  26.0\n",
      "2092  26.0\n",
      "2093  26.0\n",
      "2094  26.0\n",
      "\n",
      "[720 rows x 1 columns]\n",
      "Doublons détectés dans la colonne: Height\n",
      "        Height\n",
      "0     1.620000\n",
      "1     1.520000\n",
      "2     1.800000\n",
      "3     1.800000\n",
      "4     1.780000\n",
      "...        ...\n",
      "1629  1.697421\n",
      "1637  1.750150\n",
      "1683  1.755938\n",
      "1779  1.603501\n",
      "2068  1.697421\n",
      "\n",
      "[564 rows x 1 columns]\n",
      "Doublons détectés dans la colonne: Weight\n",
      "          Weight\n",
      "0      64.000000\n",
      "1      56.000000\n",
      "2      77.000000\n",
      "3      87.000000\n",
      "5      53.000000\n",
      "...          ...\n",
      "1523  120.860386\n",
      "1525  120.000000\n",
      "1543  116.160329\n",
      "1545  120.860386\n",
      "1613  120.000000\n",
      "\n",
      "[620 rows x 1 columns]\n",
      "Doublons détectés dans la colonne: family_history_with_overweight\n",
      "     family_history_with_overweight\n",
      "0                               yes\n",
      "1                               yes\n",
      "2                               yes\n",
      "3                                no\n",
      "4                                no\n",
      "...                             ...\n",
      "2106                            yes\n",
      "2107                            yes\n",
      "2108                            yes\n",
      "2109                            yes\n",
      "2110                            yes\n",
      "\n",
      "[2087 rows x 1 columns]\n",
      "Doublons détectés dans la colonne: FAVC\n",
      "     FAVC\n",
      "0      no\n",
      "1      no\n",
      "2      no\n",
      "3      no\n",
      "4      no\n",
      "...   ...\n",
      "2106  yes\n",
      "2107  yes\n",
      "2108  yes\n",
      "2109  yes\n",
      "2110  yes\n",
      "\n",
      "[2087 rows x 1 columns]\n",
      "Doublons détectés dans la colonne: FCVC\n",
      "      FCVC\n",
      "0      2.0\n",
      "1      3.0\n",
      "2      2.0\n",
      "3      3.0\n",
      "4      2.0\n",
      "...    ...\n",
      "2106   3.0\n",
      "2107   3.0\n",
      "2108   3.0\n",
      "2109   3.0\n",
      "2110   3.0\n",
      "\n",
      "[1299 rows x 1 columns]\n",
      "Doublons détectés dans la colonne: NCP\n",
      "      NCP\n",
      "0     3.0\n",
      "1     3.0\n",
      "2     3.0\n",
      "3     3.0\n",
      "4     1.0\n",
      "...   ...\n",
      "2106  3.0\n",
      "2107  3.0\n",
      "2108  3.0\n",
      "2109  3.0\n",
      "2110  3.0\n",
      "\n",
      "[1463 rows x 1 columns]\n",
      "Doublons détectés dans la colonne: CAEC\n",
      "           CAEC\n",
      "0     Sometimes\n",
      "1     Sometimes\n",
      "2     Sometimes\n",
      "3     Sometimes\n",
      "4     Sometimes\n",
      "...         ...\n",
      "2106  Sometimes\n",
      "2107  Sometimes\n",
      "2108  Sometimes\n",
      "2109  Sometimes\n",
      "2110  Sometimes\n",
      "\n",
      "[2087 rows x 1 columns]\n",
      "Doublons détectés dans la colonne: SMOKE\n",
      "     SMOKE\n",
      "0       no\n",
      "1      yes\n",
      "2       no\n",
      "3       no\n",
      "4       no\n",
      "...    ...\n",
      "2106    no\n",
      "2107    no\n",
      "2108    no\n",
      "2109    no\n",
      "2110    no\n",
      "\n",
      "[2087 rows x 1 columns]\n",
      "Doublons détectés dans la colonne: CH2O\n",
      "          CH2O\n",
      "0     2.000000\n",
      "1     3.000000\n",
      "2     2.000000\n",
      "3     2.000000\n",
      "4     2.000000\n",
      "...        ...\n",
      "1724  1.000000\n",
      "1781  1.000000\n",
      "1782  1.000000\n",
      "1793  1.000000\n",
      "1804  1.031354\n",
      "\n",
      "[845 rows x 1 columns]\n",
      "Doublons détectés dans la colonne: SCC\n",
      "      SCC\n",
      "0      no\n",
      "1     yes\n",
      "2      no\n",
      "3      no\n",
      "4      no\n",
      "...   ...\n",
      "2106   no\n",
      "2107   no\n",
      "2108   no\n",
      "2109   no\n",
      "2110   no\n",
      "\n",
      "[2087 rows x 1 columns]\n",
      "Doublons détectés dans la colonne: FAF\n",
      "      FAF\n",
      "0     0.0\n",
      "1     3.0\n",
      "2     2.0\n",
      "3     2.0\n",
      "4     0.0\n",
      "...   ...\n",
      "2090  0.0\n",
      "2091  0.0\n",
      "2092  0.0\n",
      "2093  0.0\n",
      "2094  0.0\n",
      "\n",
      "[923 rows x 1 columns]\n",
      "Doublons détectés dans la colonne: TUE\n",
      "          TUE\n",
      "0     1.00000\n",
      "1     0.00000\n",
      "2     1.00000\n",
      "3     0.00000\n",
      "4     0.00000\n",
      "...       ...\n",
      "1911  0.62535\n",
      "1919  1.00000\n",
      "1967  1.00000\n",
      "1968  1.00000\n",
      "2017  1.00000\n",
      "\n",
      "[984 rows x 1 columns]\n",
      "Doublons détectés dans la colonne: CALC\n",
      "            CALC\n",
      "0             no\n",
      "1      Sometimes\n",
      "2     Frequently\n",
      "3     Frequently\n",
      "4      Sometimes\n",
      "...          ...\n",
      "2106   Sometimes\n",
      "2107   Sometimes\n",
      "2108   Sometimes\n",
      "2109   Sometimes\n",
      "2110   Sometimes\n",
      "\n",
      "[2086 rows x 1 columns]\n",
      "Doublons détectés dans la colonne: MTRANS\n",
      "                     MTRANS\n",
      "0     Public_Transportation\n",
      "1     Public_Transportation\n",
      "2     Public_Transportation\n",
      "3                   Walking\n",
      "4     Public_Transportation\n",
      "...                     ...\n",
      "2106  Public_Transportation\n",
      "2107  Public_Transportation\n",
      "2108  Public_Transportation\n",
      "2109  Public_Transportation\n",
      "2110  Public_Transportation\n",
      "\n",
      "[2087 rows x 1 columns]\n",
      "Doublons détectés dans la colonne: NObeyesdad\n",
      "               NObeyesdad\n",
      "0           Normal_Weight\n",
      "1           Normal_Weight\n",
      "2           Normal_Weight\n",
      "3      Overweight_Level_I\n",
      "4     Overweight_Level_II\n",
      "...                   ...\n",
      "2106     Obesity_Type_III\n",
      "2107     Obesity_Type_III\n",
      "2108     Obesity_Type_III\n",
      "2109     Obesity_Type_III\n",
      "2110     Obesity_Type_III\n",
      "\n",
      "[2087 rows x 1 columns]\n"
     ]
    }
   ],
   "source": [
    "for col in df.columns:\n",
    "    duplicate_col = df.duplicated(subset=[col], keep=False)\n",
    "    if duplicate_col.any():\n",
    "        print(f\"Doublons détectés dans la colonne: {col}\")\n",
    "        print(df.loc[duplicate_col, [col]])\n"
   ]
  },
  {
   "cell_type": "code",
   "execution_count": null,
   "metadata": {},
   "outputs": [
    {
     "name": "stdout",
     "output_type": "stream",
     "text": [
      "Outliers détectés par la méthode IQR :\n",
      "Age       167\n",
      "Height      1\n",
      "Weight      1\n",
      "FCVC        0\n",
      "NCP       577\n",
      "CH2O        0\n",
      "FAF         0\n",
      "TUE         0\n",
      "dtype: int64\n"
     ]
    }
   ],
   "source": [
    "\n",
    "df_numeric = df.select_dtypes(include=['number'])\n",
    "\n",
    "\n",
    "Q1 = df_numeric.quantile(0.25)\n",
    "Q3 = df_numeric.quantile(0.75)\n",
    "IQR = Q3 - Q1\n",
    "\n",
    "\n",
    "outliers_iqr = ((df_numeric < (Q1 - 1.5 * IQR)) | (df_numeric > (Q3 + 1.5 * IQR))).sum()\n",
    "\n",
    "print(\"Outliers détectés par la méthode IQR :\")\n",
    "print(outliers_iqr)\n"
   ]
  },
  {
   "cell_type": "code",
   "execution_count": null,
   "metadata": {},
   "outputs": [
    {
     "name": "stdout",
     "output_type": "stream",
     "text": [
      "(2087, 17)\n"
     ]
    }
   ],
   "source": [
    "df = df.drop_duplicates()\n",
    "print(df.shape)  "
   ]
  },
  {
   "cell_type": "code",
   "execution_count": null,
   "metadata": {},
   "outputs": [
    {
     "name": "stdout",
     "output_type": "stream",
     "text": [
      "Index(['Age', 'Height', 'Weight', 'FCVC', 'NCP', 'CH2O', 'FAF', 'TUE'], dtype='object')\n"
     ]
    },
    {
     "data": {
      "image/png": "[encoded data removed]",
      "text/plain": [
       "<Figure size 1200x600 with 1 Axes>"
      ]
     },
     "metadata": {},
     "output_type": "display_data"
    }
   ],
   "source": [
    "\n",
    "df_numeric = df.select_dtypes(include=['number'])\n",
    "\n",
    "print(df_numeric.columns)\n",
    "\n",
    "\n",
    "plt.figure(figsize=(12, 6))\n",
    "\n",
    "\n",
    "sns.boxplot(data=df_numeric[['Age', 'Height', 'Weight', 'NCP']])\n",
    "\n",
    "plt.xticks(rotation=45)\n",
    "plt.title(\"Boxplot of Outlier-Affected Columns\")\n",
    "plt.show()\n"
   ]
  },
  {
   "cell_type": "code",
   "execution_count": null,
   "metadata": {},
   "outputs": [],
   "source": [
    "Q1_NCP = df['NCP'].quantile(0.25)\n",
    "Q3_NCP = df['NCP'].quantile(0.75)\n",
    "IQR_NCP = Q3_NCP - Q1_NCP\n",
    "\n",
    "\n",
    "lower_bound = max(Q1_NCP - 1.5 * IQR_NCP, 1) \n",
    "upper_bound = min(Q3_NCP + 1.5 * IQR_NCP, 5) \n",
    "\n",
    "\n",
    "df_capped = df.copy()\n",
    "df_capped['NCP'] = df['NCP'].clip(lower=lower_bound, upper=upper_bound)\n"
   ]
  },
  {
   "cell_type": "code",
   "execution_count": null,
   "metadata": {},
   "outputs": [],
   "source": [
    "df_filtered = df[(df['NCP'] >= 1) & (df['NCP'] <= 5)]\n"
   ]
  },
  {
   "cell_type": "code",
   "execution_count": null,
   "metadata": {},
   "outputs": [
    {
     "name": "stderr",
     "output_type": "stream",
     "text": [
      "C:\\Users\\louki\\AppData\\Local\\Temp\\ipykernel_7608\\3034781508.py:8: FutureWarning: \n",
      "\n",
      "Passing `palette` without assigning `hue` is deprecated and will be removed in v0.14.0. Assign the `x` variable to `hue` and set `legend=False` for the same effect.\n",
      "\n",
      "  sns.barplot(x=class_distribution.index, y=class_distribution.values, palette=\"viridis\")\n"
     ]
    },
    {
     "data": {
      "image/png": "[encoded data removed]",
      "text/plain": [
       "<Figure size 1000x600 with 1 Axes>"
      ]
     },
     "metadata": {},
     "output_type": "display_data"
    }
   ],
   "source": [
    "import seaborn as sns\n",
    "import matplotlib.pyplot as plt\n",
    "\n",
    "\n",
    "class_distribution = df['NObeyesdad'].value_counts(normalize=True) * 100  # Convert to percentage\n",
    "\n",
    "plt.figure(figsize=(10, 6))\n",
    "sns.barplot(x=class_distribution.index, y=class_distribution.values, palette=\"viridis\")\n",
    "\n",
    "\n",
    "plt.xlabel(\"Obesity Levels\")\n",
    "plt.ylabel(\"Percentage (%)\")\n",
    "plt.title(\"Distribution of Obesity Levels\")\n",
    "plt.xticks(rotation=45) \n",
    "\n",
    "plt.show()\n",
    "\n"
   ]
  },
  {
   "cell_type": "code",
   "execution_count": null,
   "metadata": {},
   "outputs": [],
   "source": [
    "target_col = 'NObeyesdad'  \n",
    "\n",
    "class_distribution = df[target_col].value_counts()\n",
    "\n",
    "print(\"Class Distribution:\\n\", class_distribution)\n",
    "plt.figure(figsize=(10, 6))\n",
    "sns.barplot(x=class_distribution.index, y=class_distribution.values, palette=\"viridis\")\n",
    "plt.xlabel(\"Obesity Level Classes\")\n",
    "plt.ylabel(\"Count\")\n",
    "plt.title(\"Distribution of Obesity Classes\")\n",
    "plt.xticks(rotation=45)  \n",
    "plt.show()"
   ]
  },
  {
   "cell_type": "code",
   "execution_count": null,
   "metadata": {},
   "outputs": [],
   "source": [
    "\n",
    "class_distribution = df['NObeyesdad'].value_counts(normalize=True) * 100\n",
    "print(class_distribution)\n"
   ]
  },
  {
   "cell_type": "code",
   "execution_count": null,
   "metadata": {},
   "outputs": [],
   "source": [
    "from imblearn.over_sampling import SMOTE\n",
    "categorical_cols = df.select_dtypes(include=['object']).columns.tolist()\n",
    "categorical_cols.remove('NObeyesdad') \n",
    "\n",
    "label_encoders = {}\n",
    "for col in categorical_cols:\n",
    "    le = LabelEncoder()\n",
    "    df[col] = le.fit_transform(df[col])\n",
    "    label_encoders[col] = le \n",
    "\n",
    "target_col = \"NObeyesdad\"\n",
    "X = df.drop(columns=[target_col])\n",
    "y = df[target_col]\n",
    "\n",
    "smote = SMOTE(random_state=42)\n",
    "X_resampled, y_resampled = smote.fit_resample(X, y)\n",
    "\n",
    "from collections import Counter\n",
    "print(\"New class distribution:\", Counter(y_resampled))\n",
    "\n",
    "plt.figure(figsize=(10, 6))\n",
    "sns.barplot(x=pd.Series(y_resampled).value_counts().index,\n",
    "            y=pd.Series(y_resampled).value_counts().values,\n",
    "            palette=\"viridis\")\n",
    "plt.xlabel(\"Obesity Level Classes\")\n",
    "plt.ylabel(\"Count\")\n",
    "plt.title(\"Balanced Distribution of Obesity Classes After SMOTE\")\n",
    "plt.xticks(rotation=45)\n",
    "plt.show()"
   ]
  },
  {
   "cell_type": "code",
   "execution_count": null,
   "metadata": {},
   "outputs": [],
   "source": [
    "\n",
    "df_numeric = df.select_dtypes(include=['number'])\n",
    "correlation_matrix = df_numeric.corr()\n",
    "plt.figure(figsize=(10, 8))\n",
    "sns.heatmap(correlation_matrix, annot=True, cmap='coolwarm', fmt=\".2f\", linewidths=0.5)\n",
    "plt.title(\"Correlation Heatmap of Numerical Features\")\n",
    "plt.show()"
   ]
  },
  {
   "cell_type": "code",
   "execution_count": null,
   "metadata": {},
   "outputs": [],
   "source": [
    "correlation_threshold = 0.8\n",
    "strong_correlations = {}\n",
    "for col in correlation_matrix.columns:\n",
    "    strong_corrs = correlation_matrix[col][(correlation_matrix[col] > correlation_threshold) & (correlation_matrix[col] < 1)].index.tolist()\n",
    "    if strong_corrs:\n",
    "        strong_correlations[col] = strong_corrs\n",
    "strong_correlations"
   ]
  },
  {
   "cell_type": "code",
   "execution_count": null,
   "metadata": {},
   "outputs": [],
   "source": [
    "from sklearn.model_selection import train_test_split\n",
    "from sklearn.preprocessing import LabelEncoder, StandardScaler\n",
    "\n",
    "import pandas as pd\n",
    "\n",
    "df=pd.read_csv(r\"C:\\Users\\kh\\Downloads\\obesity.csv\")\n",
    "df.head()\n",
    "\n",
    "X = df.drop(columns=['NObeyesdad']).copy()  \n",
    "y = df['NObeyesdad']\n",
    "categorical_cols = X.select_dtypes(include=['object']).columns\n",
    "label_encoders = {}\n",
    "\n",
    "for col in categorical_cols:\n",
    "    le = LabelEncoder()\n",
    "    X.loc[:, col] = le.fit_transform(X[col]) \n",
    "    label_encoders[col] = le  \n",
    "scaler = StandardScaler()\n",
    "X.loc[:, X.select_dtypes(include=['number']).columns] = scaler.fit_transform(X.select_dtypes(include=['number']))\n",
    "X_train, X_test, y_train, y_test = train_test_split(X, y, test_size=0.2, random_state=42, stratify=y)\n",
    "\n",
    "\n",
    "X_train.shape, X_test.shape, y_train.shape, y_test.shape"
   ]
  }
 ],
 "metadata": {
  "kernelspec": {
   "display_name": "Python 3",
   "language": "python",
   "name": "python3"
  },
  "language_info": {
   "codemirror_mode": {
    "name": "ipython",
    "version": 3
   },
   "file_extension": ".py",
   "mimetype": "text/x-python",
   "name": "python",
   "nbconvert_exporter": "python",
   "pygments_lexer": "ipython3",
   "version": "3.12.3"
  }
 },
 "nbformat": 4,
 "nbformat_minor": 2
}
